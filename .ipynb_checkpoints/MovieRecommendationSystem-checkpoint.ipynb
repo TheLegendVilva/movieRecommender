{
 "cells": [
  {
   "cell_type": "markdown",
   "id": "48c39e45",
   "metadata": {},
   "source": [
    "# Movie Recommendation System\n"
   ]
  },
  {
   "cell_type": "code",
   "execution_count": 1,
   "id": "e14146df",
   "metadata": {},
   "outputs": [],
   "source": [
    "import numpy as np\n",
    "import pandas as pd\n",
    "import matplotlib.pyplot as plt"
   ]
  },
  {
   "cell_type": "code",
   "execution_count": 2,
   "id": "440d3fde",
   "metadata": {},
   "outputs": [],
   "source": [
    "credits = pd.read_csv('tmdb_5000_credits.csv')\n",
    "movies = pd.read_csv('tmdb_5000_movies.csv')"
   ]
  },
  {
   "cell_type": "code",
   "execution_count": 3,
   "id": "6ee0e83f",
   "metadata": {},
   "outputs": [
    {
     "name": "stdout",
     "output_type": "stream",
     "text": [
      "Index(['movie_id', 'title', 'cast', 'crew'], dtype='object')\n",
      "Index(['budget', 'genres', 'homepage', 'id', 'keywords', 'original_language',\n",
      "       'original_title', 'overview', 'popularity', 'production_companies',\n",
      "       'production_countries', 'release_date', 'revenue', 'runtime',\n",
      "       'spoken_languages', 'status', 'tagline', 'title', 'vote_average',\n",
      "       'vote_count'],\n",
      "      dtype='object')\n"
     ]
    }
   ],
   "source": [
    "print(credits.columns)\n",
    "print(movies.columns)"
   ]
  },
  {
   "cell_type": "code",
   "execution_count": 4,
   "id": "634366fd",
   "metadata": {},
   "outputs": [],
   "source": [
    "credits = pd.read_csv('tmdb_5000_credits.csv')\n",
    "movies = pd.read_csv('tmdb_5000_movies.csv')"
   ]
  },
  {
   "cell_type": "markdown",
   "id": "8619cfdf",
   "metadata": {},
   "source": [
    "# EDA:\n",
    "1. Removing unnecessary columns \n",
    "2. Removing rows if any of the field is NaN"
   ]
  },
  {
   "cell_type": "code",
   "execution_count": 5,
   "id": "fde734cc",
   "metadata": {},
   "outputs": [],
   "source": [
    "movies=movies.merge(credits, on = 'title')"
   ]
  },
  {
   "cell_type": "code",
   "execution_count": 6,
   "id": "7cdc3c5f",
   "metadata": {},
   "outputs": [],
   "source": [
    "movies = movies[['id','title','genres','keywords','overview','cast','crew']]"
   ]
  },
  {
   "cell_type": "code",
   "execution_count": 7,
   "id": "2227cfc7",
   "metadata": {},
   "outputs": [],
   "source": [
    "movies.dropna(inplace=True)"
   ]
  },
  {
   "cell_type": "code",
   "execution_count": 8,
   "id": "660dcc46",
   "metadata": {},
   "outputs": [
    {
     "data": {
      "text/plain": [
       "0"
      ]
     },
     "execution_count": 8,
     "metadata": {},
     "output_type": "execute_result"
    }
   ],
   "source": [
    "#remove duplicate data\n",
    "movies.duplicated().sum()\n",
    "#No duplicated columns\n"
   ]
  },
  {
   "cell_type": "code",
   "execution_count": 10,
   "id": "ea4eea36",
   "metadata": {},
   "outputs": [],
   "source": [
    "import ast"
   ]
  },
  {
   "cell_type": "code",
   "execution_count": 11,
   "id": "c774a453",
   "metadata": {},
   "outputs": [],
   "source": [
    "def convertG(obj):\n",
    "    lst = ast.literal_eval(obj)\n",
    "    L=[]\n",
    "    for x in lst:\n",
    "        L.append(x[\"name\"])\n",
    "    return L"
   ]
  },
  {
   "cell_type": "code",
   "execution_count": 12,
   "id": "9788d892",
   "metadata": {},
   "outputs": [],
   "source": [
    "movies['genres']=movies['genres'].apply(convertG)"
   ]
  },
  {
   "cell_type": "code",
   "execution_count": 13,
   "id": "57f95b22",
   "metadata": {},
   "outputs": [],
   "source": [
    "movies['keywords']=movies['keywords'].apply(convertG)"
   ]
  },
  {
   "cell_type": "code",
   "execution_count": 14,
   "id": "ca1c21eb",
   "metadata": {},
   "outputs": [],
   "source": [
    "def convertC(obj):\n",
    "    lst = ast.literal_eval(obj)\n",
    "    count=0\n",
    "    L=[]\n",
    "    for x in lst:\n",
    "        if(count != 5):\n",
    "            L.append(x['name'])\n",
    "            count+=1\n",
    "        else:\n",
    "            break\n",
    "    return L"
   ]
  },
  {
   "cell_type": "code",
   "execution_count": 15,
   "id": "75b1b50f",
   "metadata": {},
   "outputs": [],
   "source": [
    "movies['cast']=movies['cast'].apply(convertC)"
   ]
  },
  {
   "cell_type": "code",
   "execution_count": 16,
   "id": "abc0752b",
   "metadata": {},
   "outputs": [],
   "source": [
    "def convertCrew(obj):\n",
    "    lst = ast.literal_eval(obj)\n",
    "    L=[]\n",
    "    for x in lst:\n",
    "        if(x['job']==\"Director\" or x['job']==\"Producer\"):\n",
    "            L.append(x['name'])\n",
    "    return L"
   ]
  },
  {
   "cell_type": "code",
   "execution_count": 17,
   "id": "a71d097b",
   "metadata": {},
   "outputs": [],
   "source": [
    "def removeDuplicates(obj):\n",
    "    return list(set(obj))"
   ]
  },
  {
   "cell_type": "code",
   "execution_count": 18,
   "id": "0a038f8e",
   "metadata": {},
   "outputs": [],
   "source": [
    "movies['crew'] = movies['crew'].apply(convertCrew).apply(removeDuplicates)"
   ]
  },
  {
   "cell_type": "code",
   "execution_count": 19,
   "id": "a1421219",
   "metadata": {},
   "outputs": [],
   "source": [
    "movies['overview'] = movies['overview'].apply(lambda x:x.split())"
   ]
  },
  {
   "cell_type": "code",
   "execution_count": 21,
   "id": "010eaca1",
   "metadata": {},
   "outputs": [],
   "source": [
    "movies['cast']=movies['cast'].apply(lambda x: [i.replace(' ','')for i in x])\n",
    "movies['genres']=movies['genres'].apply(lambda x: [i.replace(' ','')for i in x])\n",
    "movies['keywords']=movies['keywords'].apply(lambda x: [i.replace(' ','')for i in x])\n",
    "movies['crew']=movies['crew'].apply(lambda x: [i.replace(' ','')for i in x])"
   ]
  },
  {
   "cell_type": "code",
   "execution_count": 22,
   "id": "2b0807c3",
   "metadata": {},
   "outputs": [],
   "source": [
    "movies['tags'] = movies['overview'] + movies['genres'] + movies['cast'] + movies['crew']+movies['keywords']"
   ]
  },
  {
   "cell_type": "code",
   "execution_count": 25,
   "id": "10aed90e",
   "metadata": {},
   "outputs": [],
   "source": [
    "movies.drop(['overview','genres','cast','crew','keywords'],axis=1,inplace=True)"
   ]
  },
  {
   "cell_type": "code",
   "execution_count": 26,
   "id": "765d3b31",
   "metadata": {},
   "outputs": [],
   "source": [
    "movies['tags']=movies['tags'].apply(lambda x: \" \".join(x))"
   ]
  },
  {
   "cell_type": "code",
   "execution_count": 28,
   "id": "705ac77b",
   "metadata": {},
   "outputs": [],
   "source": [
    "movies['tags'] = movies['tags'].apply(lambda x: x.lower())"
   ]
  },
  {
   "cell_type": "code",
   "execution_count": 30,
   "id": "b9c04dbc",
   "metadata": {},
   "outputs": [],
   "source": [
    "import nltk\n",
    "from nltk.stem import PorterStemmer\n",
    "ps = PorterStemmer()"
   ]
  },
  {
   "cell_type": "code",
   "execution_count": 31,
   "id": "07e43ae7",
   "metadata": {},
   "outputs": [],
   "source": [
    "def stem(text):\n",
    "    filtered=[]\n",
    "    for i in text.split():\n",
    "        filtered.append(ps.stem(i))\n",
    "    return \" \".join(filtered)\n"
   ]
  },
  {
   "cell_type": "code",
   "execution_count": 32,
   "id": "d7f40841",
   "metadata": {},
   "outputs": [],
   "source": [
    "movies['tags'] = movies['tags'].apply(stem)"
   ]
  },
  {
   "cell_type": "code",
   "execution_count": 33,
   "id": "54f93c1b",
   "metadata": {},
   "outputs": [],
   "source": [
    "from sklearn.feature_extraction.text import CountVectorizer\n",
    "cv = CountVectorizer(max_features=5000, stop_words='english')"
   ]
  },
  {
   "cell_type": "code",
   "execution_count": 36,
   "id": "3b5d452e",
   "metadata": {},
   "outputs": [],
   "source": [
    "vectors = cv.fit_transform(movies['tags']).toarray()"
   ]
  },
  {
   "cell_type": "code",
   "execution_count": 37,
   "id": "8903eea5",
   "metadata": {},
   "outputs": [],
   "source": [
    "from sklearn.metrics.pairwise import cosine_similarity"
   ]
  },
  {
   "cell_type": "code",
   "execution_count": 38,
   "id": "6b6fefe7",
   "metadata": {},
   "outputs": [],
   "source": [
    "similarity = cosine_similarity(vectors)"
   ]
  },
  {
   "cell_type": "code",
   "execution_count": 102,
   "id": "39dba12a",
   "metadata": {},
   "outputs": [],
   "source": [
    "def recommend(movie):\n",
    "    movie_idx = movies[movies['title']==movie].index[0]\n",
    "    distances = similarity[movie_idx]\n",
    "    recommended_lst = sorted(list(enumerate(distances)),reverse=True,key=lambda x:x[1])[1:10]\n",
    "    for i in recommended_lst:\n",
    "        print(movies.iloc[i[0]].title)"
   ]
  },
  {
   "cell_type": "code",
   "execution_count": 106,
   "id": "a0e34533",
   "metadata": {},
   "outputs": [
    {
     "name": "stdout",
     "output_type": "stream",
     "text": [
      "The Peanuts Movie\n",
      "Bolt\n",
      "Wish I Was Here\n",
      "Dude Where's My Dog?\n",
      "Khumba\n",
      "The Rugrats Movie\n",
      "Apocalypto\n",
      "Howl's Moving Castle\n",
      "Should've Been Romeo\n"
     ]
    }
   ],
   "source": [
    "recommend('Finding Nemo')"
   ]
  },
  {
   "cell_type": "markdown",
   "id": "9be30fcc",
   "metadata": {},
   "source": [
    "# Now for Deployment:"
   ]
  },
  {
   "cell_type": "code",
   "execution_count": 107,
   "id": "086785ad",
   "metadata": {},
   "outputs": [],
   "source": [
    "import pickle"
   ]
  },
  {
   "cell_type": "code",
   "execution_count": 108,
   "id": "2137dd30",
   "metadata": {},
   "outputs": [],
   "source": [
    "pickle.dump(movies,open('movies.pkl','wb'))"
   ]
  },
  {
   "cell_type": "code",
   "execution_count": null,
   "id": "64fba479",
   "metadata": {},
   "outputs": [],
   "source": [
    "pickle.dump(similarity,open('similarity.pkl','wb'))"
   ]
  }
 ],
 "metadata": {
  "kernelspec": {
   "display_name": "Python 3 (ipykernel)",
   "language": "python",
   "name": "python3"
  },
  "language_info": {
   "codemirror_mode": {
    "name": "ipython",
    "version": 3
   },
   "file_extension": ".py",
   "mimetype": "text/x-python",
   "name": "python",
   "nbconvert_exporter": "python",
   "pygments_lexer": "ipython3",
   "version": "3.10.6"
  }
 },
 "nbformat": 4,
 "nbformat_minor": 5
}
